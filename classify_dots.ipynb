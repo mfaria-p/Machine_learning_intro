{
 "cells": [
  {
   "cell_type": "code",
   "execution_count": null,
   "metadata": {},
   "outputs": [],
   "source": [
    "#deep learning library, torch, provides tensor operations, (tensors are multi-dimensional \n",
    "# arrays that can represent data of various type; tensors are generalizations of matrices \n",
    "# to N-dimensional spaces)\n",
    "import torch\n",
    "#for building and training neural networks modules\n",
    "import torch.nn as nn\n",
    "import numpy as np\n",
    "\n",
    "#library for plotting\n",
    "import matplotlib.pyplot as plt\n",
    "#SVG is a vector-based image format that allows for high-quality and scalable plots. \n",
    "#It's particularly handy when you want to zoom in on a plot without losing quality.\n",
    "from IPython import display\n",
    "display.set_matplotlib_formats('svg')"
   ]
  },
  {
   "cell_type": "code",
   "execution_count": null,
   "metadata": {},
   "outputs": [],
   "source": []
  }
 ],
 "metadata": {
  "language_info": {
   "name": "python"
  }
 },
 "nbformat": 4,
 "nbformat_minor": 2
}
